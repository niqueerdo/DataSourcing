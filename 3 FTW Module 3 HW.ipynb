{
 "cells": [
  {
   "cell_type": "markdown",
   "metadata": {},
   "source": [
    "# Module 3 HW"
   ]
  },
  {
   "cell_type": "markdown",
   "metadata": {},
   "source": [
    "## 1. Find a CSV/Excel/XML/JSON from any of the data sources listed on the data sources listed in the Module 3 deck.\n",
    "- Load file into Python as a Pandas Dataframe\n",
    "- What columns and datatypes are in the data source\n",
    "- Get the statistics of the categorical / string and numeric columns\n",
    "- How big is the dataset?"
   ]
  },
  {
   "cell_type": "markdown",
   "metadata": {},
   "source": [
    "**import needed libraries**"
   ]
  },
  {
   "cell_type": "code",
   "execution_count": 1,
   "metadata": {},
   "outputs": [],
   "source": [
    "import pandas as pd\n",
    "import numpy as np"
   ]
  },
  {
   "cell_type": "markdown",
   "metadata": {},
   "source": [
    "### Loading CSV file to Python as Pandas Dataframe\n",
    "*Source: Philippine Statistics Authority*<br>\n",
    "<a href=http://openstat.psa.gov.ph/dataset/education>**Number of schools, examinees and distribution of passers by sex in various licensure examination, 2014-2015 (Source: Professional Regulation Commission)**</a>"
   ]
  },
  {
   "cell_type": "code",
   "execution_count": 2,
   "metadata": {},
   "outputs": [],
   "source": [
    "df = pd.read_csv(\"/Users/nikkiquitasol/Desktop/FTW Data Science/Class Submissions/Table 10.21.csv\")"
   ]
  },
  {
   "cell_type": "code",
   "execution_count": null,
   "metadata": {},
   "outputs": [],
   "source": [
    "##df = pd.read_csv(\"/Users/nikkiquitasol/Desktop/FTW Data Science/Class Submissions/Table 10.21.csv\",\n",
    "                ##index_col=['Licensure Examination'])"
   ]
  },
  {
   "cell_type": "code",
   "execution_count": 3,
   "metadata": {},
   "outputs": [
    {
     "data": {
      "text/html": [
       "<div>\n",
       "<style scoped>\n",
       "    .dataframe tbody tr th:only-of-type {\n",
       "        vertical-align: middle;\n",
       "    }\n",
       "\n",
       "    .dataframe tbody tr th {\n",
       "        vertical-align: top;\n",
       "    }\n",
       "\n",
       "    .dataframe thead th {\n",
       "        text-align: right;\n",
       "    }\n",
       "</style>\n",
       "<table border=\"1\" class=\"dataframe\">\n",
       "  <thead>\n",
       "    <tr style=\"text-align: right;\">\n",
       "      <th></th>\n",
       "      <th>Licensure Examination</th>\n",
       "      <th>2014</th>\n",
       "      <th>2015</th>\n",
       "    </tr>\n",
       "  </thead>\n",
       "  <tbody>\n",
       "    <tr>\n",
       "      <th>0</th>\n",
       "      <td>Total Schools</td>\n",
       "      <td>7850</td>\n",
       "      <td>8592</td>\n",
       "    </tr>\n",
       "    <tr>\n",
       "      <th>1</th>\n",
       "      <td>Total Examinees</td>\n",
       "      <td>425233</td>\n",
       "      <td>443775</td>\n",
       "    </tr>\n",
       "    <tr>\n",
       "      <th>2</th>\n",
       "      <td>Total Passers</td>\n",
       "      <td>169029</td>\n",
       "      <td>174642</td>\n",
       "    </tr>\n",
       "    <tr>\n",
       "      <th>3</th>\n",
       "      <td>Total Passers (Male)</td>\n",
       "      <td>62143</td>\n",
       "      <td>59658</td>\n",
       "    </tr>\n",
       "    <tr>\n",
       "      <th>4</th>\n",
       "      <td>Total Passer (Female)</td>\n",
       "      <td>106886</td>\n",
       "      <td>114984</td>\n",
       "    </tr>\n",
       "  </tbody>\n",
       "</table>\n",
       "</div>"
      ],
      "text/plain": [
       "   Licensure Examination    2014    2015\n",
       "0          Total Schools    7850    8592\n",
       "1        Total Examinees  425233  443775\n",
       "2          Total Passers  169029  174642\n",
       "3   Total Passers (Male)   62143   59658\n",
       "4  Total Passer (Female)  106886  114984"
      ]
     },
     "execution_count": 3,
     "metadata": {},
     "output_type": "execute_result"
    }
   ],
   "source": [
    "df.head(5)"
   ]
  },
  {
   "cell_type": "code",
   "execution_count": 4,
   "metadata": {},
   "outputs": [
    {
     "data": {
      "text/html": [
       "<div>\n",
       "<style scoped>\n",
       "    .dataframe tbody tr th:only-of-type {\n",
       "        vertical-align: middle;\n",
       "    }\n",
       "\n",
       "    .dataframe tbody tr th {\n",
       "        vertical-align: top;\n",
       "    }\n",
       "\n",
       "    .dataframe thead th {\n",
       "        text-align: right;\n",
       "    }\n",
       "</style>\n",
       "<table border=\"1\" class=\"dataframe\">\n",
       "  <thead>\n",
       "    <tr style=\"text-align: right;\">\n",
       "      <th></th>\n",
       "      <th>Licensure Examination</th>\n",
       "      <th>2014</th>\n",
       "      <th>2015</th>\n",
       "    </tr>\n",
       "  </thead>\n",
       "  <tbody>\n",
       "    <tr>\n",
       "      <th>283</th>\n",
       "      <td>X-Ray Technologists (Examinees)</td>\n",
       "      <td>158</td>\n",
       "      <td>210</td>\n",
       "    </tr>\n",
       "    <tr>\n",
       "      <th>284</th>\n",
       "      <td>X-Ray Technologists (Passers)</td>\n",
       "      <td>43</td>\n",
       "      <td>53</td>\n",
       "    </tr>\n",
       "    <tr>\n",
       "      <th>285</th>\n",
       "      <td>X-Ray Technologists (Male)</td>\n",
       "      <td>22</td>\n",
       "      <td>22</td>\n",
       "    </tr>\n",
       "    <tr>\n",
       "      <th>286</th>\n",
       "      <td>X-Ray Technologists (Female)</td>\n",
       "      <td>21</td>\n",
       "      <td>31</td>\n",
       "    </tr>\n",
       "    <tr>\n",
       "      <th>287</th>\n",
       "      <td>X-Ray Technologists (Overall Passing Rate)</td>\n",
       "      <td>27</td>\n",
       "      <td>25</td>\n",
       "    </tr>\n",
       "  </tbody>\n",
       "</table>\n",
       "</div>"
      ],
      "text/plain": [
       "                          Licensure Examination 2014 2015\n",
       "283             X-Ray Technologists (Examinees)  158  210\n",
       "284               X-Ray Technologists (Passers)   43   53\n",
       "285                  X-Ray Technologists (Male)   22   22\n",
       "286                X-Ray Technologists (Female)   21   31\n",
       "287  X-Ray Technologists (Overall Passing Rate)   27   25"
      ]
     },
     "execution_count": 4,
     "metadata": {},
     "output_type": "execute_result"
    }
   ],
   "source": [
    "df.tail()"
   ]
  },
  {
   "cell_type": "markdown",
   "metadata": {},
   "source": [
    "### What columns and datatypes are in the data source?\n",
    "- 3 Columns: \"Licensure\" \"2014\" \"2015\"\n",
    "- Datatypes: Object"
   ]
  },
  {
   "cell_type": "code",
   "execution_count": 5,
   "metadata": {},
   "outputs": [
    {
     "data": {
      "text/plain": [
       "Licensure Examination    object\n",
       "2014                     object\n",
       "2015                     object\n",
       "dtype: object"
      ]
     },
     "execution_count": 5,
     "metadata": {},
     "output_type": "execute_result"
    }
   ],
   "source": [
    "df.dtypes"
   ]
  },
  {
   "cell_type": "markdown",
   "metadata": {},
   "source": [
    "### Get the statistics of the categorical / string and numeric columns"
   ]
  },
  {
   "cell_type": "code",
   "execution_count": 6,
   "metadata": {},
   "outputs": [
    {
     "name": "stdout",
     "output_type": "stream",
     "text": [
      "<class 'pandas.core.frame.DataFrame'>\n",
      "RangeIndex: 288 entries, 0 to 287\n",
      "Data columns (total 3 columns):\n",
      "Licensure Examination    288 non-null object\n",
      "2014                     288 non-null object\n",
      "2015                     288 non-null object\n",
      "dtypes: object(3)\n",
      "memory usage: 6.8+ KB\n"
     ]
    }
   ],
   "source": [
    "df.info()"
   ]
  },
  {
   "cell_type": "code",
   "execution_count": 7,
   "metadata": {},
   "outputs": [
    {
     "data": {
      "text/html": [
       "<div>\n",
       "<style scoped>\n",
       "    .dataframe tbody tr th:only-of-type {\n",
       "        vertical-align: middle;\n",
       "    }\n",
       "\n",
       "    .dataframe tbody tr th {\n",
       "        vertical-align: top;\n",
       "    }\n",
       "\n",
       "    .dataframe thead th {\n",
       "        text-align: right;\n",
       "    }\n",
       "</style>\n",
       "<table border=\"1\" class=\"dataframe\">\n",
       "  <thead>\n",
       "    <tr style=\"text-align: right;\">\n",
       "      <th></th>\n",
       "      <th>Licensure Examination</th>\n",
       "      <th>2014</th>\n",
       "      <th>2015</th>\n",
       "    </tr>\n",
       "  </thead>\n",
       "  <tbody>\n",
       "    <tr>\n",
       "      <th>count</th>\n",
       "      <td>288</td>\n",
       "      <td>288</td>\n",
       "      <td>288</td>\n",
       "    </tr>\n",
       "    <tr>\n",
       "      <th>unique</th>\n",
       "      <td>288</td>\n",
       "      <td>228</td>\n",
       "      <td>216</td>\n",
       "    </tr>\n",
       "    <tr>\n",
       "      <th>top</th>\n",
       "      <td>Librarians (Female)</td>\n",
       "      <td>a</td>\n",
       "      <td>d</td>\n",
       "    </tr>\n",
       "    <tr>\n",
       "      <th>freq</th>\n",
       "      <td>1</td>\n",
       "      <td>6</td>\n",
       "      <td>12</td>\n",
       "    </tr>\n",
       "  </tbody>\n",
       "</table>\n",
       "</div>"
      ],
      "text/plain": [
       "       Licensure Examination 2014 2015\n",
       "count                    288  288  288\n",
       "unique                   288  228  216\n",
       "top      Librarians (Female)    a    d\n",
       "freq                       1    6   12"
      ]
     },
     "execution_count": 7,
     "metadata": {},
     "output_type": "execute_result"
    }
   ],
   "source": [
    "df.describe()"
   ]
  },
  {
   "cell_type": "markdown",
   "metadata": {},
   "source": [
    "### How big is the dataset?\n",
    "- 6.8+ KB"
   ]
  },
  {
   "cell_type": "markdown",
   "metadata": {},
   "source": [
    "## 2. Go to Quandl.com\n",
    "- Find the API to use to find the % of Philippine corporations expected to give gifts to get a construction permit, sourced from the World Bank Enterprise Surveys\n",
    "- Read the Documentation and find out what library / function to use to get the index\n",
    "- Get the latest value available from the API"
   ]
  },
  {
   "cell_type": "markdown",
   "metadata": {},
   "source": [
    "**Import needed libraries**"
   ]
  },
  {
   "cell_type": "code",
   "execution_count": 8,
   "metadata": {},
   "outputs": [],
   "source": [
    "import quandl\n",
    "import requests\n",
    "import json"
   ]
  },
  {
   "cell_type": "code",
   "execution_count": 9,
   "metadata": {},
   "outputs": [],
   "source": [
    "# add quandl API key for unrestricted\n",
    "api_key = '4xRoMDjiZpWzfzhL7QpE'\n",
    "quandl.ApiConfig.api_key =  api_key ## Insert API Key here"
   ]
  },
  {
   "cell_type": "markdown",
   "metadata": {},
   "source": [
    "### Using Quandl API, sourced from the World Bank Enterprise Surveys\n",
    "<a href=https://www.quandl.com/data/WESV-World-Bank-Enterprise-Surveys/documentation/data-organization>**Percent of Philippine corporations expected to give gifts to get a construction permit**</a>"
   ]
  },
  {
   "cell_type": "code",
   "execution_count": 10,
   "metadata": {},
   "outputs": [],
   "source": [
    "#Request URL\n",
    "urlq = \"https://www.quandl.com/api/v3/datasets/WESV/PHL_IC_FRM_CORR_CORR8?api_key=\"+api_key\n",
    "\n",
    "#The request will return this response\n",
    "response = requests.get(urlq)\n",
    "\n",
    "#Get text response\n",
    "data = response.json()"
   ]
  },
  {
   "cell_type": "code",
   "execution_count": 11,
   "metadata": {},
   "outputs": [
    {
     "data": {
      "text/plain": [
       "{u'dataset': {u'collapse': None,\n",
       "  u'column_index': None,\n",
       "  u'column_names': [u'Date', u'Value'],\n",
       "  u'data': [[u'2015-12-31', 39.9], [u'2009-12-31', 34.7]],\n",
       "  u'database_code': u'WESV',\n",
       "  u'database_id': 13547,\n",
       "  u'dataset_code': u'PHL_IC_FRM_CORR_CORR8',\n",
       "  u'description': u'Percent of firms expected to give gifts to get a construction permit - Philippines. ',\n",
       "  u'end_date': u'2015-12-31',\n",
       "  u'frequency': u'daily',\n",
       "  u'id': 21932116,\n",
       "  u'limit': None,\n",
       "  u'name': u'Percent of firms expected to give gifts to get a construction permit - Philippines',\n",
       "  u'newest_available_date': u'2015-12-31',\n",
       "  u'oldest_available_date': u'2009-12-31',\n",
       "  u'order': None,\n",
       "  u'premium': False,\n",
       "  u'refreshed_at': u'2018-10-24T05:17:37.164Z',\n",
       "  u'start_date': u'2009-12-31',\n",
       "  u'transform': None,\n",
       "  u'type': u'Time Series'}}"
      ]
     },
     "execution_count": 11,
     "metadata": {},
     "output_type": "execute_result"
    }
   ],
   "source": [
    "data"
   ]
  },
  {
   "cell_type": "code",
   "execution_count": 12,
   "metadata": {},
   "outputs": [
    {
     "data": {
      "text/plain": [
       "{u'collapse': None,\n",
       " u'column_index': None,\n",
       " u'column_names': [u'Date', u'Value'],\n",
       " u'data': [[u'2015-12-31', 39.9], [u'2009-12-31', 34.7]],\n",
       " u'database_code': u'WESV',\n",
       " u'database_id': 13547,\n",
       " u'dataset_code': u'PHL_IC_FRM_CORR_CORR8',\n",
       " u'description': u'Percent of firms expected to give gifts to get a construction permit - Philippines. ',\n",
       " u'end_date': u'2015-12-31',\n",
       " u'frequency': u'daily',\n",
       " u'id': 21932116,\n",
       " u'limit': None,\n",
       " u'name': u'Percent of firms expected to give gifts to get a construction permit - Philippines',\n",
       " u'newest_available_date': u'2015-12-31',\n",
       " u'oldest_available_date': u'2009-12-31',\n",
       " u'order': None,\n",
       " u'premium': False,\n",
       " u'refreshed_at': u'2018-10-24T05:17:37.164Z',\n",
       " u'start_date': u'2009-12-31',\n",
       " u'transform': None,\n",
       " u'type': u'Time Series'}"
      ]
     },
     "execution_count": 12,
     "metadata": {},
     "output_type": "execute_result"
    }
   ],
   "source": [
    "data['dataset']"
   ]
  },
  {
   "cell_type": "code",
   "execution_count": 13,
   "metadata": {},
   "outputs": [],
   "source": [
    "cols = data['dataset']['column_names']"
   ]
  },
  {
   "cell_type": "code",
   "execution_count": 14,
   "metadata": {},
   "outputs": [],
   "source": [
    "row_data = data['dataset']['data']"
   ]
  },
  {
   "cell_type": "code",
   "execution_count": 15,
   "metadata": {},
   "outputs": [],
   "source": [
    "df2 = pd.DataFrame(data = row_data, columns=cols)"
   ]
  },
  {
   "cell_type": "code",
   "execution_count": 16,
   "metadata": {},
   "outputs": [
    {
     "data": {
      "text/html": [
       "<div>\n",
       "<style scoped>\n",
       "    .dataframe tbody tr th:only-of-type {\n",
       "        vertical-align: middle;\n",
       "    }\n",
       "\n",
       "    .dataframe tbody tr th {\n",
       "        vertical-align: top;\n",
       "    }\n",
       "\n",
       "    .dataframe thead th {\n",
       "        text-align: right;\n",
       "    }\n",
       "</style>\n",
       "<table border=\"1\" class=\"dataframe\">\n",
       "  <thead>\n",
       "    <tr style=\"text-align: right;\">\n",
       "      <th></th>\n",
       "      <th>Date</th>\n",
       "      <th>Value</th>\n",
       "    </tr>\n",
       "  </thead>\n",
       "  <tbody>\n",
       "    <tr>\n",
       "      <th>0</th>\n",
       "      <td>2015-12-31</td>\n",
       "      <td>39.9</td>\n",
       "    </tr>\n",
       "    <tr>\n",
       "      <th>1</th>\n",
       "      <td>2009-12-31</td>\n",
       "      <td>34.7</td>\n",
       "    </tr>\n",
       "  </tbody>\n",
       "</table>\n",
       "</div>"
      ],
      "text/plain": [
       "         Date  Value\n",
       "0  2015-12-31   39.9\n",
       "1  2009-12-31   34.7"
      ]
     },
     "execution_count": 16,
     "metadata": {},
     "output_type": "execute_result"
    }
   ],
   "source": [
    "df2.head()"
   ]
  },
  {
   "cell_type": "markdown",
   "metadata": {},
   "source": [
    "##### Latest value available from API = 39.9"
   ]
  },
  {
   "cell_type": "code",
   "execution_count": 17,
   "metadata": {},
   "outputs": [
    {
     "data": {
      "text/plain": [
       "39.9"
      ]
     },
     "execution_count": 17,
     "metadata": {},
     "output_type": "execute_result"
    }
   ],
   "source": [
    "#Just get value\n",
    "data['dataset']['data'][0][1]"
   ]
  },
  {
   "cell_type": "markdown",
   "metadata": {},
   "source": [
    "## 3. Web Scraping"
   ]
  },
  {
   "cell_type": "markdown",
   "metadata": {},
   "source": [
    "### Option 1\n",
    "- Scrape the top played track (first only) on SoundCloud \n",
    "- https://soundcloud.com/charts/top"
   ]
  },
  {
   "cell_type": "code",
   "execution_count": 18,
   "metadata": {},
   "outputs": [],
   "source": [
    "# import libraries\n",
    "import urllib2\n",
    "from bs4 import BeautifulSoup"
   ]
  },
  {
   "cell_type": "code",
   "execution_count": 19,
   "metadata": {},
   "outputs": [],
   "source": [
    "# specify the url\n",
    "urlsc = \"https://soundcloud.com/charts/top\""
   ]
  },
  {
   "cell_type": "code",
   "execution_count": 20,
   "metadata": {},
   "outputs": [],
   "source": [
    "# query the website and return the html to the variable ‘page’\n",
    "page = urllib2.urlopen(urlsc)"
   ]
  },
  {
   "cell_type": "code",
   "execution_count": 21,
   "metadata": {},
   "outputs": [],
   "source": [
    "#Parse the html in the 'page' variable, and store it in Beautiful Soup format\n",
    "soup = BeautifulSoup(page, 'html.parser')"
   ]
  },
  {
   "cell_type": "code",
   "execution_count": 22,
   "metadata": {},
   "outputs": [],
   "source": [
    "song = soup.find('a', itemprop=\"url\", href=\"/lil-baby-4pf/drip-too-hard\")\n",
    "artist = soup.find('a', href=\"/lil-baby-4pf\")"
   ]
  },
  {
   "cell_type": "code",
   "execution_count": 23,
   "metadata": {},
   "outputs": [
    {
     "name": "stdout",
     "output_type": "stream",
     "text": [
      "Drip Too Hard\n",
      "by Lil Baby\n"
     ]
    }
   ],
   "source": [
    "print song.text\n",
    "print \"by \" + artist.text"
   ]
  },
  {
   "cell_type": "markdown",
   "metadata": {},
   "source": [
    "### Option 2\n",
    "- Access\n",
    "https://en.wikipedia.org/wiki/Cinemalaya_Philippine_Independent_Film_Festival\n",
    "- Load Page Source\n",
    "- Scrape to get the table for the\n",
    "https://en.wikipedia.org/wiki/Cinemalaya_Philippine_Independent_Film_Festival\n",
    "- Reference: https://medium.com/@Alexander_H/scraping-wikipedia-with-python-8000fc9c9e6c"
   ]
  },
  {
   "cell_type": "code",
   "execution_count": 24,
   "metadata": {},
   "outputs": [],
   "source": [
    "urlwiki = \"https://en.wikipedia.org/wiki/Cinemalaya_Philippine_Independent_Film_Festival\""
   ]
  },
  {
   "cell_type": "code",
   "execution_count": 25,
   "metadata": {},
   "outputs": [],
   "source": [
    "html = urllib2.urlopen(urlwiki)\n",
    "##html = requests.get(urlwiki)"
   ]
  },
  {
   "cell_type": "code",
   "execution_count": 26,
   "metadata": {},
   "outputs": [],
   "source": [
    "bs = BeautifulSoup(html, 'html.parser')"
   ]
  },
  {
   "cell_type": "code",
   "execution_count": 27,
   "metadata": {},
   "outputs": [],
   "source": [
    "tabletitle = bs.find('span', class_=\"mw-headline\", id=\"New_Breed\")"
   ]
  },
  {
   "cell_type": "code",
   "execution_count": 29,
   "metadata": {},
   "outputs": [],
   "source": [
    "right_table=bs.find('table', class_=\"wikitable\")"
   ]
  },
  {
   "cell_type": "code",
   "execution_count": 30,
   "metadata": {},
   "outputs": [],
   "source": [
    "# Initialize blank lists\n",
    "A=[]\n",
    "B=[]\n",
    "C=[]\n",
    "D=[]\n",
    "E=[]\n",
    "F=[]\n",
    "\n",
    "#fill each list row by row\n",
    "for row in right_table.find_all(\"tr\"):\n",
    "    #print(row)\n",
    "    cells = row.find_all('td')\n",
    "    if len(cells)>0: #Only extract table body not heading\n",
    "        A.append(cells[0].find(text=True))\n",
    "        B.append(cells[1].find(text=True))\n",
    "        C.append(cells[2].find(text=True))\n",
    "        D.append(cells[3].find(text=True))\n",
    "        E.append(cells[4].find(text=True))\n",
    "        F.append(cells[5].find(text=True))"
   ]
  },
  {
   "cell_type": "code",
   "execution_count": 31,
   "metadata": {},
   "outputs": [
    {
     "name": "stdout",
     "output_type": "stream",
     "text": [
      "New Breed\n"
     ]
    },
    {
     "data": {
      "text/html": [
       "<div>\n",
       "<style scoped>\n",
       "    .dataframe tbody tr th:only-of-type {\n",
       "        vertical-align: middle;\n",
       "    }\n",
       "\n",
       "    .dataframe tbody tr th {\n",
       "        vertical-align: top;\n",
       "    }\n",
       "\n",
       "    .dataframe thead th {\n",
       "        text-align: right;\n",
       "    }\n",
       "</style>\n",
       "<table border=\"1\" class=\"dataframe\">\n",
       "  <thead>\n",
       "    <tr style=\"text-align: right;\">\n",
       "      <th></th>\n",
       "      <th>Year</th>\n",
       "      <th>Best Film</th>\n",
       "      <th>Best Direction</th>\n",
       "      <th>Special Jury Prize</th>\n",
       "      <th>Best Actress</th>\n",
       "      <th>Best Actor</th>\n",
       "    </tr>\n",
       "  </thead>\n",
       "  <tbody>\n",
       "    <tr>\n",
       "      <th>0</th>\n",
       "      <td>2005</td>\n",
       "      <td>Pepot Artista</td>\n",
       "      <td>Rica Arevalo</td>\n",
       "      <td>Ang Pagdadalaga ni Maximo Oliveros</td>\n",
       "      <td>Meryll Soriano</td>\n",
       "      <td>Eddie Garcia</td>\n",
       "    </tr>\n",
       "    <tr>\n",
       "      <th>1</th>\n",
       "      <td>2006</td>\n",
       "      <td>Tulad ng Dati</td>\n",
       "      <td>Ron Bryant</td>\n",
       "      <td>Batad: Sa Paang Palay</td>\n",
       "      <td>Angel Aquino</td>\n",
       "      <td>Alchris Galura</td>\n",
       "    </tr>\n",
       "    <tr>\n",
       "      <th>2</th>\n",
       "      <td>2007</td>\n",
       "      <td>Tribu</td>\n",
       "      <td>Auraeus Solito</td>\n",
       "      <td>Endo</td>\n",
       "      <td>Ina Feleo</td>\n",
       "      <td>The ensemble of</td>\n",
       "    </tr>\n",
       "    <tr>\n",
       "      <th>3</th>\n",
       "      <td>2008</td>\n",
       "      <td>Jay</td>\n",
       "      <td>Chris Martinez</td>\n",
       "      <td>Brutus</td>\n",
       "      <td>Mylene Dizon</td>\n",
       "      <td>Baron Geisler</td>\n",
       "    </tr>\n",
       "    <tr>\n",
       "      <th>4</th>\n",
       "      <td>2009</td>\n",
       "      <td>Last Supper No. 3</td>\n",
       "      <td>GB Sampedro</td>\n",
       "      <td>Ang Panggagahasa kay Fe</td>\n",
       "      <td>Ina Feleo</td>\n",
       "      <td>Lou Veloso</td>\n",
       "    </tr>\n",
       "    <tr>\n",
       "      <th>5</th>\n",
       "      <td>2010</td>\n",
       "      <td>Halaw</td>\n",
       "      <td>Sheron Dayoc</td>\n",
       "      <td>Sampaguita, National Flower</td>\n",
       "      <td>Lovi Poe</td>\n",
       "      <td>John Arcilla</td>\n",
       "    </tr>\n",
       "    <tr>\n",
       "      <th>6</th>\n",
       "      <td>2011</td>\n",
       "      <td>Ang Babae sa Septic Tank</td>\n",
       "      <td>Marlon Rivera</td>\n",
       "      <td>Niño</td>\n",
       "      <td>Eugene Domingo</td>\n",
       "      <td>Edgar Allan Guzman</td>\n",
       "    </tr>\n",
       "    <tr>\n",
       "      <th>7</th>\n",
       "      <td>2012</td>\n",
       "      <td>Diablo</td>\n",
       "      <td>Mes de Guzman</td>\n",
       "      <td>Requieme</td>\n",
       "      <td>Ama Quiambao</td>\n",
       "      <td>Kristoffer King</td>\n",
       "    </tr>\n",
       "    <tr>\n",
       "      <th>8</th>\n",
       "      <td>2013</td>\n",
       "      <td>Transit</td>\n",
       "      <td>Hannah Espia</td>\n",
       "      <td>Quick Change</td>\n",
       "      <td>Irma Adlawan</td>\n",
       "      <td>Mimi Juareza</td>\n",
       "    </tr>\n",
       "    <tr>\n",
       "      <th>9</th>\n",
       "      <td>2014</td>\n",
       "      <td>Bwaya</td>\n",
       "      <td>Giancarlo Abrahan V</td>\n",
       "      <td>K’na The Dreamweaver</td>\n",
       "      <td>Eula Valdez</td>\n",
       "      <td>Dante Rivero</td>\n",
       "    </tr>\n",
       "  </tbody>\n",
       "</table>\n",
       "</div>"
      ],
      "text/plain": [
       "   Year                 Best Film        Best Direction  \\\n",
       "0  2005             Pepot Artista        Rica Arevalo     \n",
       "1  2006             Tulad ng Dati           Ron Bryant    \n",
       "2  2007                     Tribu        Auraeus Solito   \n",
       "3  2008                       Jay        Chris Martinez   \n",
       "4  2009         Last Supper No. 3          GB Sampedro    \n",
       "5  2010                     Halaw         Sheron Dayoc    \n",
       "6  2011  Ang Babae sa Septic Tank        Marlon Rivera    \n",
       "7  2012                    Diablo        Mes de Guzman    \n",
       "8  2013                   Transit         Hannah Espia    \n",
       "9  2014                     Bwaya  Giancarlo Abrahan V    \n",
       "\n",
       "                   Special Jury Prize    Best Actress          Best Actor  \n",
       "0  Ang Pagdadalaga ni Maximo Oliveros  Meryll Soriano        Eddie Garcia  \n",
       "1               Batad: Sa Paang Palay    Angel Aquino     Alchris Galura   \n",
       "2                                Endo      Ina Feleo     The ensemble of   \n",
       "3                              Brutus    Mylene Dizon       Baron Geisler  \n",
       "4             Ang Panggagahasa kay Fe      Ina Feleo           Lou Veloso  \n",
       "5         Sampaguita, National Flower        Lovi Poe        John Arcilla  \n",
       "6                                Niño  Eugene Domingo  Edgar Allan Guzman  \n",
       "7                            Requieme    Ama Quiambao    Kristoffer King   \n",
       "8                        Quick Change    Irma Adlawan       Mimi Juareza   \n",
       "9                K’na The Dreamweaver     Eula Valdez        Dante Rivero  "
      ]
     },
     "execution_count": 31,
     "metadata": {},
     "output_type": "execute_result"
    }
   ],
   "source": [
    "df3=pd.DataFrame(A,columns=['Year'])\n",
    "df3['Best Film']=B\n",
    "df3['Best Direction']=C\n",
    "df3['Special Jury Prize']=D\n",
    "df3['Best Actress']=E\n",
    "df3['Best Actor']=F\n",
    "\n",
    "print tabletitle.text\n",
    "df3"
   ]
  },
  {
   "cell_type": "code",
   "execution_count": null,
   "metadata": {},
   "outputs": [],
   "source": []
  }
 ],
 "metadata": {
  "kernelspec": {
   "display_name": "Python 2",
   "language": "python",
   "name": "python2"
  },
  "language_info": {
   "codemirror_mode": {
    "name": "ipython",
    "version": 2
   },
   "file_extension": ".py",
   "mimetype": "text/x-python",
   "name": "python",
   "nbconvert_exporter": "python",
   "pygments_lexer": "ipython2",
   "version": "2.7.15"
  }
 },
 "nbformat": 4,
 "nbformat_minor": 2
}
